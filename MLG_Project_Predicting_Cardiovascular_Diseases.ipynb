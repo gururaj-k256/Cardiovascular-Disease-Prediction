{
  "nbformat": 4,
  "nbformat_minor": 0,
  "metadata": {
    "colab": {
      "name": "MLG_Project_Predicting_Cardiovascular_Diseases.ipynb",
      "provenance": [],
      "collapsed_sections": []
    },
    "kernelspec": {
      "name": "python3",
      "display_name": "Python 3"
    },
    "language_info": {
      "name": "python"
    }
  },
  "cells": [
    {
      "cell_type": "markdown",
      "source": [
        "# **Importing Libraries**"
      ],
      "metadata": {
        "id": "DXyBaPKMLS28"
      }
    },
    {
      "cell_type": "code",
      "execution_count": 149,
      "metadata": {
        "id": "9-hdR4ue4rws"
      },
      "outputs": [],
      "source": [
        "import numpy as np\n",
        "import pandas as pd\n",
        "import matplotlib.pyplot as plt\n",
        "import seaborn as sns"
      ]
    },
    {
      "cell_type": "markdown",
      "source": [
        "# **Importing Dataset**"
      ],
      "metadata": {
        "id": "oT_VxPyrLbwM"
      }
    },
    {
      "cell_type": "code",
      "source": [
        "dataset = pd.read_csv(\"/content/heart.csv\")"
      ],
      "metadata": {
        "id": "HofDeBHI8hMv"
      },
      "execution_count": 150,
      "outputs": []
    },
    {
      "cell_type": "code",
      "source": [
        "dataset.head(5)"
      ],
      "metadata": {
        "colab": {
          "base_uri": "https://localhost:8080/",
          "height": 206
        },
        "id": "koSgapuB8hPf",
        "outputId": "9b325fcb-148b-499c-f397-2f7654206317"
      },
      "execution_count": 151,
      "outputs": [
        {
          "output_type": "execute_result",
          "data": {
            "text/html": [
              "\n",
              "  <div id=\"df-455ca2ef-d357-4957-993d-0d4211dc7f94\">\n",
              "    <div class=\"colab-df-container\">\n",
              "      <div>\n",
              "<style scoped>\n",
              "    .dataframe tbody tr th:only-of-type {\n",
              "        vertical-align: middle;\n",
              "    }\n",
              "\n",
              "    .dataframe tbody tr th {\n",
              "        vertical-align: top;\n",
              "    }\n",
              "\n",
              "    .dataframe thead th {\n",
              "        text-align: right;\n",
              "    }\n",
              "</style>\n",
              "<table border=\"1\" class=\"dataframe\">\n",
              "  <thead>\n",
              "    <tr style=\"text-align: right;\">\n",
              "      <th></th>\n",
              "      <th>age</th>\n",
              "      <th>sex</th>\n",
              "      <th>cp</th>\n",
              "      <th>trestbps</th>\n",
              "      <th>chol</th>\n",
              "      <th>fbs</th>\n",
              "      <th>restecg</th>\n",
              "      <th>thalach</th>\n",
              "      <th>exang</th>\n",
              "      <th>oldpeak</th>\n",
              "      <th>slope</th>\n",
              "      <th>ca</th>\n",
              "      <th>thal</th>\n",
              "      <th>target</th>\n",
              "    </tr>\n",
              "  </thead>\n",
              "  <tbody>\n",
              "    <tr>\n",
              "      <th>0</th>\n",
              "      <td>63</td>\n",
              "      <td>1</td>\n",
              "      <td>3</td>\n",
              "      <td>145</td>\n",
              "      <td>233</td>\n",
              "      <td>1</td>\n",
              "      <td>0</td>\n",
              "      <td>150</td>\n",
              "      <td>0</td>\n",
              "      <td>2.3</td>\n",
              "      <td>0</td>\n",
              "      <td>0</td>\n",
              "      <td>1</td>\n",
              "      <td>1</td>\n",
              "    </tr>\n",
              "    <tr>\n",
              "      <th>1</th>\n",
              "      <td>37</td>\n",
              "      <td>1</td>\n",
              "      <td>2</td>\n",
              "      <td>130</td>\n",
              "      <td>250</td>\n",
              "      <td>0</td>\n",
              "      <td>1</td>\n",
              "      <td>187</td>\n",
              "      <td>0</td>\n",
              "      <td>3.5</td>\n",
              "      <td>0</td>\n",
              "      <td>0</td>\n",
              "      <td>2</td>\n",
              "      <td>1</td>\n",
              "    </tr>\n",
              "    <tr>\n",
              "      <th>2</th>\n",
              "      <td>41</td>\n",
              "      <td>0</td>\n",
              "      <td>1</td>\n",
              "      <td>130</td>\n",
              "      <td>204</td>\n",
              "      <td>0</td>\n",
              "      <td>0</td>\n",
              "      <td>172</td>\n",
              "      <td>0</td>\n",
              "      <td>1.4</td>\n",
              "      <td>2</td>\n",
              "      <td>0</td>\n",
              "      <td>2</td>\n",
              "      <td>1</td>\n",
              "    </tr>\n",
              "    <tr>\n",
              "      <th>3</th>\n",
              "      <td>56</td>\n",
              "      <td>1</td>\n",
              "      <td>1</td>\n",
              "      <td>120</td>\n",
              "      <td>236</td>\n",
              "      <td>0</td>\n",
              "      <td>1</td>\n",
              "      <td>178</td>\n",
              "      <td>0</td>\n",
              "      <td>0.8</td>\n",
              "      <td>2</td>\n",
              "      <td>0</td>\n",
              "      <td>2</td>\n",
              "      <td>1</td>\n",
              "    </tr>\n",
              "    <tr>\n",
              "      <th>4</th>\n",
              "      <td>57</td>\n",
              "      <td>0</td>\n",
              "      <td>0</td>\n",
              "      <td>120</td>\n",
              "      <td>354</td>\n",
              "      <td>0</td>\n",
              "      <td>1</td>\n",
              "      <td>163</td>\n",
              "      <td>1</td>\n",
              "      <td>0.6</td>\n",
              "      <td>2</td>\n",
              "      <td>0</td>\n",
              "      <td>2</td>\n",
              "      <td>1</td>\n",
              "    </tr>\n",
              "  </tbody>\n",
              "</table>\n",
              "</div>\n",
              "      <button class=\"colab-df-convert\" onclick=\"convertToInteractive('df-455ca2ef-d357-4957-993d-0d4211dc7f94')\"\n",
              "              title=\"Convert this dataframe to an interactive table.\"\n",
              "              style=\"display:none;\">\n",
              "        \n",
              "  <svg xmlns=\"http://www.w3.org/2000/svg\" height=\"24px\"viewBox=\"0 0 24 24\"\n",
              "       width=\"24px\">\n",
              "    <path d=\"M0 0h24v24H0V0z\" fill=\"none\"/>\n",
              "    <path d=\"M18.56 5.44l.94 2.06.94-2.06 2.06-.94-2.06-.94-.94-2.06-.94 2.06-2.06.94zm-11 1L8.5 8.5l.94-2.06 2.06-.94-2.06-.94L8.5 2.5l-.94 2.06-2.06.94zm10 10l.94 2.06.94-2.06 2.06-.94-2.06-.94-.94-2.06-.94 2.06-2.06.94z\"/><path d=\"M17.41 7.96l-1.37-1.37c-.4-.4-.92-.59-1.43-.59-.52 0-1.04.2-1.43.59L10.3 9.45l-7.72 7.72c-.78.78-.78 2.05 0 2.83L4 21.41c.39.39.9.59 1.41.59.51 0 1.02-.2 1.41-.59l7.78-7.78 2.81-2.81c.8-.78.8-2.07 0-2.86zM5.41 20L4 18.59l7.72-7.72 1.47 1.35L5.41 20z\"/>\n",
              "  </svg>\n",
              "      </button>\n",
              "      \n",
              "  <style>\n",
              "    .colab-df-container {\n",
              "      display:flex;\n",
              "      flex-wrap:wrap;\n",
              "      gap: 12px;\n",
              "    }\n",
              "\n",
              "    .colab-df-convert {\n",
              "      background-color: #E8F0FE;\n",
              "      border: none;\n",
              "      border-radius: 50%;\n",
              "      cursor: pointer;\n",
              "      display: none;\n",
              "      fill: #1967D2;\n",
              "      height: 32px;\n",
              "      padding: 0 0 0 0;\n",
              "      width: 32px;\n",
              "    }\n",
              "\n",
              "    .colab-df-convert:hover {\n",
              "      background-color: #E2EBFA;\n",
              "      box-shadow: 0px 1px 2px rgba(60, 64, 67, 0.3), 0px 1px 3px 1px rgba(60, 64, 67, 0.15);\n",
              "      fill: #174EA6;\n",
              "    }\n",
              "\n",
              "    [theme=dark] .colab-df-convert {\n",
              "      background-color: #3B4455;\n",
              "      fill: #D2E3FC;\n",
              "    }\n",
              "\n",
              "    [theme=dark] .colab-df-convert:hover {\n",
              "      background-color: #434B5C;\n",
              "      box-shadow: 0px 1px 3px 1px rgba(0, 0, 0, 0.15);\n",
              "      filter: drop-shadow(0px 1px 2px rgba(0, 0, 0, 0.3));\n",
              "      fill: #FFFFFF;\n",
              "    }\n",
              "  </style>\n",
              "\n",
              "      <script>\n",
              "        const buttonEl =\n",
              "          document.querySelector('#df-455ca2ef-d357-4957-993d-0d4211dc7f94 button.colab-df-convert');\n",
              "        buttonEl.style.display =\n",
              "          google.colab.kernel.accessAllowed ? 'block' : 'none';\n",
              "\n",
              "        async function convertToInteractive(key) {\n",
              "          const element = document.querySelector('#df-455ca2ef-d357-4957-993d-0d4211dc7f94');\n",
              "          const dataTable =\n",
              "            await google.colab.kernel.invokeFunction('convertToInteractive',\n",
              "                                                     [key], {});\n",
              "          if (!dataTable) return;\n",
              "\n",
              "          const docLinkHtml = 'Like what you see? Visit the ' +\n",
              "            '<a target=\"_blank\" href=https://colab.research.google.com/notebooks/data_table.ipynb>data table notebook</a>'\n",
              "            + ' to learn more about interactive tables.';\n",
              "          element.innerHTML = '';\n",
              "          dataTable['output_type'] = 'display_data';\n",
              "          await google.colab.output.renderOutput(dataTable, element);\n",
              "          const docLink = document.createElement('div');\n",
              "          docLink.innerHTML = docLinkHtml;\n",
              "          element.appendChild(docLink);\n",
              "        }\n",
              "      </script>\n",
              "    </div>\n",
              "  </div>\n",
              "  "
            ],
            "text/plain": [
              "   age  sex  cp  trestbps  chol  fbs  ...  exang  oldpeak  slope  ca  thal  target\n",
              "0   63    1   3       145   233    1  ...      0      2.3      0   0     1       1\n",
              "1   37    1   2       130   250    0  ...      0      3.5      0   0     2       1\n",
              "2   41    0   1       130   204    0  ...      0      1.4      2   0     2       1\n",
              "3   56    1   1       120   236    0  ...      0      0.8      2   0     2       1\n",
              "4   57    0   0       120   354    0  ...      1      0.6      2   0     2       1\n",
              "\n",
              "[5 rows x 14 columns]"
            ]
          },
          "metadata": {},
          "execution_count": 151
        }
      ]
    },
    {
      "cell_type": "markdown",
      "source": [
        "# **Analysing Dataset**"
      ],
      "metadata": {
        "id": "siyxE7qTMF-I"
      }
    },
    {
      "cell_type": "code",
      "source": [
        "print('''age:\t\t\tage\n",
        "sex:\t\t\t1: male, 0: female\n",
        "cp:\t\t\tchest pain type, 1: typical angina, 2: atypical angina, 3: non-anginal pain, 4: asymptomatic\n",
        "trestbps:\t\t\tresting blood pressure\n",
        "chol:\t\t\t serum cholestoral in mg/dl\n",
        "fbs:\t\t\tfasting blood sugar > 120 mg/dl\n",
        "restecg:\t\t\tresting electrocardiographic results (values 0,1,2)\n",
        "thalach:\t\t\t maximum heart rate achieved\n",
        "exang:\t\t\texercise induced angina\n",
        "oldpeak:\t\t\toldpeak = ST depression induced by exercise relative to rest\n",
        "slope:\t\t\tthe slope of the peak exercise ST segment\n",
        "ca:\t\t\tnumber of major vessels (0-3) colored by flourosopy\n",
        "thal:\t\t\tthal: 3 = normal; 6 = fixed defect; 7 = reversable defect''')"
      ],
      "metadata": {
        "colab": {
          "base_uri": "https://localhost:8080/"
        },
        "id": "-z59_2Xl8hSP",
        "outputId": "71e4ba2c-14f2-45cc-8710-e1af6d87b19a"
      },
      "execution_count": 152,
      "outputs": [
        {
          "output_type": "stream",
          "name": "stdout",
          "text": [
            "age:\t\t\tage\n",
            "sex:\t\t\t1: male, 0: female\n",
            "cp:\t\t\tchest pain type, 1: typical angina, 2: atypical angina, 3: non-anginal pain, 4: asymptomatic\n",
            "trestbps:\t\t\tresting blood pressure\n",
            "chol:\t\t\t serum cholestoral in mg/dl\n",
            "fbs:\t\t\tfasting blood sugar > 120 mg/dl\n",
            "restecg:\t\t\tresting electrocardiographic results (values 0,1,2)\n",
            "thalach:\t\t\t maximum heart rate achieved\n",
            "exang:\t\t\texercise induced angina\n",
            "oldpeak:\t\t\toldpeak = ST depression induced by exercise relative to rest\n",
            "slope:\t\t\tthe slope of the peak exercise ST segment\n",
            "ca:\t\t\tnumber of major vessels (0-3) colored by flourosopy\n",
            "thal:\t\t\tthal: 3 = normal; 6 = fixed defect; 7 = reversable defect\n"
          ]
        }
      ]
    },
    {
      "cell_type": "code",
      "source": [
        "print(dataset[\"target\"].describe(), \"\\n\")\n",
        "print(dataset[\"target\"].unique())"
      ],
      "metadata": {
        "colab": {
          "base_uri": "https://localhost:8080/"
        },
        "id": "fjPpF-Yv8hUc",
        "outputId": "16591c6e-4733-423e-bbc4-0fb2c1802f2e"
      },
      "execution_count": 153,
      "outputs": [
        {
          "output_type": "stream",
          "name": "stdout",
          "text": [
            "count    303.000000\n",
            "mean       0.544554\n",
            "std        0.498835\n",
            "min        0.000000\n",
            "25%        0.000000\n",
            "50%        1.000000\n",
            "75%        1.000000\n",
            "max        1.000000\n",
            "Name: target, dtype: float64 \n",
            "\n",
            "[1 0]\n"
          ]
        }
      ]
    },
    {
      "cell_type": "code",
      "source": [
        "print(dataset.corr()[\"target\"].abs().sort_values(ascending=False))"
      ],
      "metadata": {
        "colab": {
          "base_uri": "https://localhost:8080/"
        },
        "id": "EmylwrwS8hW1",
        "outputId": "cf73f44d-3f9b-4d87-e9ba-943e322bce3f"
      },
      "execution_count": 154,
      "outputs": [
        {
          "output_type": "stream",
          "name": "stdout",
          "text": [
            "target      1.000000\n",
            "exang       0.436757\n",
            "cp          0.433798\n",
            "oldpeak     0.430696\n",
            "thalach     0.421741\n",
            "ca          0.391724\n",
            "slope       0.345877\n",
            "thal        0.344029\n",
            "sex         0.280937\n",
            "age         0.225439\n",
            "trestbps    0.144931\n",
            "restecg     0.137230\n",
            "chol        0.085239\n",
            "fbs         0.028046\n",
            "Name: target, dtype: float64\n"
          ]
        }
      ]
    },
    {
      "cell_type": "code",
      "source": [
        "y = dataset[\"target\"]\n",
        "\n",
        "target_temp = dataset.target.value_counts()\n",
        "\n",
        "print(target_temp)"
      ],
      "metadata": {
        "colab": {
          "base_uri": "https://localhost:8080/"
        },
        "id": "U6KrYCPt8hap",
        "outputId": "98ba8b95-f241-461e-97f3-0a8737aefb06"
      },
      "execution_count": 155,
      "outputs": [
        {
          "output_type": "stream",
          "name": "stdout",
          "text": [
            "1    165\n",
            "0    138\n",
            "Name: target, dtype: int64\n"
          ]
        }
      ]
    },
    {
      "cell_type": "code",
      "source": [
        "print(\"Patients without heart problems: \"+str(target_temp[0]))\n",
        "print(\"Patients with heart problems: \"+str(target_temp[1]))"
      ],
      "metadata": {
        "colab": {
          "base_uri": "https://localhost:8080/"
        },
        "id": "hFeYmyuPMids",
        "outputId": "14dc9339-ccb4-4abd-ad91-cb468c57538a"
      },
      "execution_count": 156,
      "outputs": [
        {
          "output_type": "stream",
          "name": "stdout",
          "text": [
            "Patients without heart problems: 138\n",
            "Patients with heart problems: 165\n"
          ]
        }
      ]
    },
    {
      "cell_type": "markdown",
      "source": [
        "# **Train Test Split**"
      ],
      "metadata": {
        "id": "aNia0plj_30r"
      }
    },
    {
      "cell_type": "code",
      "source": [
        "from sklearn.model_selection import train_test_split\n",
        "\n",
        "predictors = dataset.drop(\"target\",axis=1)\n",
        "target = dataset[\"target\"]\n",
        "\n",
        "X_train,X_test,Y_train,Y_test = train_test_split(predictors,target,test_size=0.20,random_state=0)"
      ],
      "metadata": {
        "id": "UNpebjfA_7t_"
      },
      "execution_count": 157,
      "outputs": []
    },
    {
      "cell_type": "code",
      "source": [
        "print(X_train.shape)\n",
        "\n",
        "print(X_test.shape)\n",
        "\n",
        "Y_train.shape\n",
        "\n",
        "Y_test.shape"
      ],
      "metadata": {
        "id": "AhoH6tpJADGF",
        "colab": {
          "base_uri": "https://localhost:8080/"
        },
        "outputId": "57edf48e-2327-4a8e-bafa-c619cc86e76c"
      },
      "execution_count": 158,
      "outputs": [
        {
          "output_type": "stream",
          "name": "stdout",
          "text": [
            "(242, 13)\n",
            "(61, 13)\n"
          ]
        },
        {
          "output_type": "execute_result",
          "data": {
            "text/plain": [
              "(61,)"
            ]
          },
          "metadata": {},
          "execution_count": 158
        }
      ]
    },
    {
      "cell_type": "markdown",
      "source": [
        "# **Model Fitting**"
      ],
      "metadata": {
        "id": "5mAs6UW_A-4o"
      }
    },
    {
      "cell_type": "markdown",
      "source": [
        "# **1) Logistic Regression**"
      ],
      "metadata": {
        "id": "9WKCTmFH98-1"
      }
    },
    {
      "cell_type": "code",
      "source": [
        "from sklearn.linear_model import LogisticRegression\n",
        "\n",
        "lr = LogisticRegression(solver='lbfgs', max_iter=1000)\n",
        "\n",
        "lr.fit(X_train,Y_train)\n",
        "\n",
        "Y_pred_lr = lr.predict(X_test)"
      ],
      "metadata": {
        "id": "BkviIngnXuD0"
      },
      "execution_count": 159,
      "outputs": []
    },
    {
      "cell_type": "code",
      "source": [
        "Y_pred_lr.shape"
      ],
      "metadata": {
        "colab": {
          "base_uri": "https://localhost:8080/"
        },
        "id": "vRg0T5L3HpWR",
        "outputId": "038bcc62-4e7d-4119-bdd2-1dd61e6dad35"
      },
      "execution_count": 160,
      "outputs": [
        {
          "output_type": "execute_result",
          "data": {
            "text/plain": [
              "(61,)"
            ]
          },
          "metadata": {},
          "execution_count": 160
        }
      ]
    },
    {
      "cell_type": "markdown",
      "source": [
        "**Accuracy Score**"
      ],
      "metadata": {
        "id": "M2WP9hzxhHUH"
      }
    },
    {
      "cell_type": "code",
      "source": [
        "from sklearn.metrics import accuracy_score"
      ],
      "metadata": {
        "id": "3JwHvCHym8Wj"
      },
      "execution_count": 161,
      "outputs": []
    },
    {
      "cell_type": "code",
      "source": [
        "score_lr = round(accuracy_score(Y_pred_lr,Y_test)*100,2)\n",
        "\n",
        "print(\"Accuracy score using Logistic Regression is: \"+str(score_lr))"
      ],
      "metadata": {
        "colab": {
          "base_uri": "https://localhost:8080/"
        },
        "id": "iqV7YuXcHtBh",
        "outputId": "36502d7a-f0de-4f1c-91a1-64d011dda8f8"
      },
      "execution_count": 162,
      "outputs": [
        {
          "output_type": "stream",
          "name": "stdout",
          "text": [
            "Accuracy score using Logistic Regression is: 85.25\n"
          ]
        }
      ]
    },
    {
      "cell_type": "markdown",
      "source": [
        "**Confusion Matrix**"
      ],
      "metadata": {
        "id": "pcRE9TJHhCJF"
      }
    },
    {
      "cell_type": "code",
      "source": [
        "from sklearn.metrics import confusion_matrix\n",
        "import seaborn as sns\n",
        "cm = confusion_matrix(Y_test, Y_pred_lr)\n",
        "sns.heatmap(cm, annot=True)"
      ],
      "metadata": {
        "colab": {
          "base_uri": "https://localhost:8080/",
          "height": 339
        },
        "id": "QuEPhgCcg6JJ",
        "outputId": "62c7102e-54ce-4dc0-9e8c-9a1b12c07bb8"
      },
      "execution_count": 163,
      "outputs": [
        {
          "output_type": "execute_result",
          "data": {
            "text/plain": [
              "<matplotlib.axes._subplots.AxesSubplot at 0x7fc7664e6510>"
            ]
          },
          "metadata": {},
          "execution_count": 163
        },
        {
          "output_type": "display_data",
          "data": {
            "image/png": "[encoded data removed]",
            "text/plain": [
              "<Figure size 576x360 with 2 Axes>"
            ]
          },
          "metadata": {}
        }
      ]
    },
    {
      "cell_type": "markdown",
      "source": [
        "# **2) Decision Trees**"
      ],
      "metadata": {
        "id": "keFGADBA-CcW"
      }
    },
    {
      "cell_type": "code",
      "source": [
        "from sklearn.tree import DecisionTreeClassifier\n",
        "\n",
        "max_accuracy = 0\n",
        "\n",
        "\n",
        "for x in range(200):\n",
        "    dt = DecisionTreeClassifier(random_state=x)\n",
        "    dt.fit(X_train,Y_train)\n",
        "    Y_pred_dt = dt.predict(X_test)\n",
        "    current_accuracy = round(accuracy_score(Y_pred_dt,Y_test)*100,2)\n",
        "    if(current_accuracy>max_accuracy):\n",
        "        max_accuracy = current_accuracy\n",
        "        best_x = x\n",
        "\n",
        "dt = DecisionTreeClassifier(random_state=best_x)\n",
        "dt.fit(X_train,Y_train)\n",
        "Y_pred_dt = dt.predict(X_test)"
      ],
      "metadata": {
        "id": "yNajOTXx-B5G"
      },
      "execution_count": 164,
      "outputs": []
    },
    {
      "cell_type": "code",
      "source": [
        "print(Y_pred_dt.shape)"
      ],
      "metadata": {
        "colab": {
          "base_uri": "https://localhost:8080/"
        },
        "id": "7GP4i711H6HV",
        "outputId": "1f0e9ca3-361c-4ff4-d69d-fc0455cfe2ef"
      },
      "execution_count": 165,
      "outputs": [
        {
          "output_type": "stream",
          "name": "stdout",
          "text": [
            "(61,)\n"
          ]
        }
      ]
    },
    {
      "cell_type": "markdown",
      "source": [
        "**Accuracy Score**"
      ],
      "metadata": {
        "id": "wNZgxSakicym"
      }
    },
    {
      "cell_type": "code",
      "source": [
        "score_dt = round(accuracy_score(Y_pred_dt,Y_test)*100,2)\n",
        "\n",
        "print(\"Accuracy score using Decision Tree is: \"+str(score_dt))"
      ],
      "metadata": {
        "colab": {
          "base_uri": "https://localhost:8080/"
        },
        "id": "AdgwN2zyH9ro",
        "outputId": "196df88c-92e8-47a1-ed83-46a31ffeed90"
      },
      "execution_count": 166,
      "outputs": [
        {
          "output_type": "stream",
          "name": "stdout",
          "text": [
            "Accuracy score using Decision Tree is: 81.97\n"
          ]
        }
      ]
    },
    {
      "cell_type": "markdown",
      "source": [
        "**Confusion Matrix**"
      ],
      "metadata": {
        "id": "bXEnahIWiaGy"
      }
    },
    {
      "cell_type": "code",
      "source": [
        "cm=confusion_matrix(Y_test,Y_pred_dt)\n",
        "sns.heatmap(cm,annot=True)"
      ],
      "metadata": {
        "colab": {
          "base_uri": "https://localhost:8080/",
          "height": 339
        },
        "id": "8pnMo3RRhf4t",
        "outputId": "c3291f89-4989-4595-d941-31b10948752f"
      },
      "execution_count": 167,
      "outputs": [
        {
          "output_type": "execute_result",
          "data": {
            "text/plain": [
              "<matplotlib.axes._subplots.AxesSubplot at 0x7fc765f11ad0>"
            ]
          },
          "metadata": {},
          "execution_count": 167
        },
        {
          "output_type": "display_data",
          "data": {
            "image/png": "[encoded data removed]",
            "text/plain": [
              "<Figure size 576x360 with 2 Axes>"
            ]
          },
          "metadata": {}
        }
      ]
    },
    {
      "cell_type": "markdown",
      "source": [
        "**Decision Tree Visualiser**"
      ],
      "metadata": {
        "id": "KdEWOVjUhzri"
      }
    },
    {
      "cell_type": "code",
      "source": [
        "from sklearn.tree import plot_tree\n",
        "plot_tree(dt)"
      ],
      "metadata": {
        "colab": {
          "base_uri": "https://localhost:8080/",
          "height": 1000
        },
        "id": "o8yV7wRzh0Th",
        "outputId": "6bc90bd2-1600-4d0b-e62c-b61def098399"
      },
      "execution_count": 168,
      "outputs": [
        {
          "output_type": "execute_result",
          "data": {
            "text/plain": [
              "[Text(0.40396341463414637, 0.95, 'X[2] <= 0.5\\ngini = 0.497\\nsamples = 242\\nvalue = [111, 131]'),\n",
              " Text(0.23780487804878048, 0.85, 'X[11] <= 0.5\\ngini = 0.405\\nsamples = 117\\nvalue = [84, 33]'),\n",
              " Text(0.15853658536585366, 0.75, 'X[12] <= 2.5\\ngini = 0.494\\nsamples = 54\\nvalue = [24, 30]'),\n",
              " Text(0.07317073170731707, 0.65, 'X[7] <= 119.5\\ngini = 0.367\\nsamples = 33\\nvalue = [8, 25]'),\n",
              " Text(0.04878048780487805, 0.55, 'gini = 0.0\\nsamples = 2\\nvalue = [2, 0]'),\n",
              " Text(0.0975609756097561, 0.55, 'X[12] <= 1.5\\ngini = 0.312\\nsamples = 31\\nvalue = [6, 25]'),\n",
              " Text(0.04878048780487805, 0.45, 'X[0] <= 54.5\\ngini = 0.48\\nsamples = 5\\nvalue = [3, 2]'),\n",
              " Text(0.024390243902439025, 0.35, 'gini = 0.0\\nsamples = 3\\nvalue = [3, 0]'),\n",
              " Text(0.07317073170731707, 0.35, 'gini = 0.0\\nsamples = 2\\nvalue = [0, 2]'),\n",
              " Text(0.14634146341463414, 0.45, 'X[0] <= 60.0\\ngini = 0.204\\nsamples = 26\\nvalue = [3, 23]'),\n",
              " Text(0.12195121951219512, 0.35, 'gini = 0.0\\nsamples = 18\\nvalue = [0, 18]'),\n",
              " Text(0.17073170731707318, 0.35, 'X[0] <= 63.5\\ngini = 0.469\\nsamples = 8\\nvalue = [3, 5]'),\n",
              " Text(0.14634146341463414, 0.25, 'X[7] <= 155.5\\ngini = 0.48\\nsamples = 5\\nvalue = [3, 2]'),\n",
              " Text(0.12195121951219512, 0.15, 'gini = 0.0\\nsamples = 2\\nvalue = [2, 0]'),\n",
              " Text(0.17073170731707318, 0.15, 'X[0] <= 61.5\\ngini = 0.444\\nsamples = 3\\nvalue = [1, 2]'),\n",
              " Text(0.14634146341463414, 0.05, 'gini = 0.0\\nsamples = 1\\nvalue = [1, 0]'),\n",
              " Text(0.1951219512195122, 0.05, 'gini = 0.0\\nsamples = 2\\nvalue = [0, 2]'),\n",
              " Text(0.1951219512195122, 0.25, 'gini = 0.0\\nsamples = 3\\nvalue = [0, 3]'),\n",
              " Text(0.24390243902439024, 0.65, 'X[9] <= 0.65\\ngini = 0.363\\nsamples = 21\\nvalue = [16, 5]'),\n",
              " Text(0.21951219512195122, 0.55, 'X[0] <= 42.0\\ngini = 0.494\\nsamples = 9\\nvalue = [4, 5]'),\n",
              " Text(0.1951219512195122, 0.45, 'gini = 0.0\\nsamples = 3\\nvalue = [3, 0]'),\n",
              " Text(0.24390243902439024, 0.45, 'X[4] <= 237.5\\ngini = 0.278\\nsamples = 6\\nvalue = [1, 5]'),\n",
              " Text(0.21951219512195122, 0.35, 'gini = 0.0\\nsamples = 5\\nvalue = [0, 5]'),\n",
              " Text(0.2682926829268293, 0.35, 'gini = 0.0\\nsamples = 1\\nvalue = [1, 0]'),\n",
              " Text(0.2682926829268293, 0.55, 'gini = 0.0\\nsamples = 12\\nvalue = [12, 0]'),\n",
              " Text(0.3170731707317073, 0.75, 'X[0] <= 63.5\\ngini = 0.091\\nsamples = 63\\nvalue = [60, 3]'),\n",
              " Text(0.2926829268292683, 0.65, 'gini = 0.0\\nsamples = 47\\nvalue = [47, 0]'),\n",
              " Text(0.34146341463414637, 0.65, 'X[6] <= 0.5\\ngini = 0.305\\nsamples = 16\\nvalue = [13, 3]'),\n",
              " Text(0.3170731707317073, 0.55, 'gini = 0.0\\nsamples = 10\\nvalue = [10, 0]'),\n",
              " Text(0.36585365853658536, 0.55, 'X[5] <= 0.5\\ngini = 0.5\\nsamples = 6\\nvalue = [3, 3]'),\n",
              " Text(0.34146341463414637, 0.45, 'gini = 0.0\\nsamples = 3\\nvalue = [0, 3]'),\n",
              " Text(0.3902439024390244, 0.45, 'gini = 0.0\\nsamples = 3\\nvalue = [3, 0]'),\n",
              " Text(0.5701219512195121, 0.85, 'X[1] <= 0.5\\ngini = 0.339\\nsamples = 125\\nvalue = [27, 98]'),\n",
              " Text(0.4146341463414634, 0.75, 'X[11] <= 1.5\\ngini = 0.042\\nsamples = 47\\nvalue = [1, 46]'),\n",
              " Text(0.3902439024390244, 0.65, 'gini = 0.0\\nsamples = 43\\nvalue = [0, 43]'),\n",
              " Text(0.43902439024390244, 0.65, 'X[3] <= 138.0\\ngini = 0.375\\nsamples = 4\\nvalue = [1, 3]'),\n",
              " Text(0.4146341463414634, 0.55, 'gini = 0.0\\nsamples = 1\\nvalue = [1, 0]'),\n",
              " Text(0.4634146341463415, 0.55, 'gini = 0.0\\nsamples = 3\\nvalue = [0, 3]'),\n",
              " Text(0.725609756097561, 0.75, 'X[0] <= 56.5\\ngini = 0.444\\nsamples = 78\\nvalue = [26, 52]'),\n",
              " Text(0.5853658536585366, 0.65, 'X[7] <= 148.5\\ngini = 0.3\\nsamples = 49\\nvalue = [9, 40]'),\n",
              " Text(0.5121951219512195, 0.55, 'X[0] <= 50.0\\ngini = 0.408\\nsamples = 7\\nvalue = [5, 2]'),\n",
              " Text(0.4878048780487805, 0.45, 'gini = 0.0\\nsamples = 4\\nvalue = [4, 0]'),\n",
              " Text(0.5365853658536586, 0.45, 'X[5] <= 0.5\\ngini = 0.444\\nsamples = 3\\nvalue = [1, 2]'),\n",
              " Text(0.5121951219512195, 0.35, 'gini = 0.0\\nsamples = 2\\nvalue = [0, 2]'),\n",
              " Text(0.5609756097560976, 0.35, 'gini = 0.0\\nsamples = 1\\nvalue = [1, 0]'),\n",
              " Text(0.6585365853658537, 0.55, 'X[3] <= 172.0\\ngini = 0.172\\nsamples = 42\\nvalue = [4, 38]'),\n",
              " Text(0.6341463414634146, 0.45, 'X[9] <= 3.65\\ngini = 0.136\\nsamples = 41\\nvalue = [3, 38]'),\n",
              " Text(0.6097560975609756, 0.35, 'X[3] <= 111.0\\ngini = 0.095\\nsamples = 40\\nvalue = [2, 38]'),\n",
              " Text(0.5853658536585366, 0.25, 'X[0] <= 49.5\\ngini = 0.48\\nsamples = 5\\nvalue = [2, 3]'),\n",
              " Text(0.5609756097560976, 0.15, 'X[0] <= 46.5\\ngini = 0.444\\nsamples = 3\\nvalue = [2, 1]'),\n",
              " Text(0.5365853658536586, 0.05, 'gini = 0.0\\nsamples = 1\\nvalue = [0, 1]'),\n",
              " Text(0.5853658536585366, 0.05, 'gini = 0.0\\nsamples = 2\\nvalue = [2, 0]'),\n",
              " Text(0.6097560975609756, 0.15, 'gini = 0.0\\nsamples = 2\\nvalue = [0, 2]'),\n",
              " Text(0.6341463414634146, 0.25, 'gini = 0.0\\nsamples = 35\\nvalue = [0, 35]'),\n",
              " Text(0.6585365853658537, 0.35, 'gini = 0.0\\nsamples = 1\\nvalue = [1, 0]'),\n",
              " Text(0.6829268292682927, 0.45, 'gini = 0.0\\nsamples = 1\\nvalue = [1, 0]'),\n",
              " Text(0.8658536585365854, 0.65, 'X[4] <= 244.5\\ngini = 0.485\\nsamples = 29\\nvalue = [17, 12]'),\n",
              " Text(0.7804878048780488, 0.55, 'X[11] <= 0.5\\ngini = 0.494\\nsamples = 18\\nvalue = [8, 10]'),\n",
              " Text(0.7317073170731707, 0.45, 'X[0] <= 65.5\\ngini = 0.198\\nsamples = 9\\nvalue = [1, 8]'),\n",
              " Text(0.7073170731707317, 0.35, 'gini = 0.0\\nsamples = 8\\nvalue = [0, 8]'),\n",
              " Text(0.7560975609756098, 0.35, 'gini = 0.0\\nsamples = 1\\nvalue = [1, 0]'),\n",
              " Text(0.8292682926829268, 0.45, 'X[7] <= 144.5\\ngini = 0.346\\nsamples = 9\\nvalue = [7, 2]'),\n",
              " Text(0.8048780487804879, 0.35, 'X[9] <= 1.3\\ngini = 0.444\\nsamples = 3\\nvalue = [1, 2]'),\n",
              " Text(0.7804878048780488, 0.25, 'gini = 0.0\\nsamples = 2\\nvalue = [0, 2]'),\n",
              " Text(0.8292682926829268, 0.25, 'gini = 0.0\\nsamples = 1\\nvalue = [1, 0]'),\n",
              " Text(0.8536585365853658, 0.35, 'gini = 0.0\\nsamples = 6\\nvalue = [6, 0]'),\n",
              " Text(0.9512195121951219, 0.55, 'X[9] <= 3.1\\ngini = 0.298\\nsamples = 11\\nvalue = [9, 2]'),\n",
              " Text(0.926829268292683, 0.45, 'X[3] <= 119.0\\ngini = 0.18\\nsamples = 10\\nvalue = [9, 1]'),\n",
              " Text(0.9024390243902439, 0.35, 'gini = 0.0\\nsamples = 1\\nvalue = [0, 1]'),\n",
              " Text(0.9512195121951219, 0.35, 'gini = 0.0\\nsamples = 9\\nvalue = [9, 0]'),\n",
              " Text(0.975609756097561, 0.45, 'gini = 0.0\\nsamples = 1\\nvalue = [0, 1]')]"
            ]
          },
          "metadata": {},
          "execution_count": 168
        },
        {
          "output_type": "display_data",
          "data": {
            "image/png": "[encoded data removed]",
            "text/plain": [
              "<Figure size 576x360 with 1 Axes>"
            ]
          },
          "metadata": {}
        }
      ]
    },
    {
      "cell_type": "markdown",
      "source": [
        "# **3) Random Forest**"
      ],
      "metadata": {
        "id": "zPMCqBzL-G-g"
      }
    },
    {
      "cell_type": "code",
      "source": [
        "from sklearn.ensemble import RandomForestClassifier\n",
        "\n",
        "max_accuracy = 0\n",
        "\n",
        "\n",
        "for x in range(200):\n",
        "    rf = RandomForestClassifier(random_state=x)\n",
        "    rf.fit(X_train,Y_train)\n",
        "    Y_pred_rf = rf.predict(X_test)\n",
        "    current_accuracy = round(accuracy_score(Y_pred_rf,Y_test)*100,2)\n",
        "    if(current_accuracy>max_accuracy):\n",
        "        max_accuracy = current_accuracy\n",
        "        best_x = x\n",
        "        \n",
        "#print(max_accuracy)\n",
        "#print(best_x)\n",
        "\n",
        "rf = RandomForestClassifier(random_state=best_x)\n",
        "rf.fit(X_train,Y_train)\n",
        "Y_pred_rf = rf.predict(X_test)"
      ],
      "metadata": {
        "id": "Ng5WZssxo7HB"
      },
      "execution_count": 169,
      "outputs": []
    },
    {
      "cell_type": "code",
      "source": [
        "Y_pred_rf.shape"
      ],
      "metadata": {
        "id": "grh5Q1ynKBrH",
        "colab": {
          "base_uri": "https://localhost:8080/"
        },
        "outputId": "866c8bb2-ed83-4158-fcac-e043943286d5"
      },
      "execution_count": 170,
      "outputs": [
        {
          "output_type": "execute_result",
          "data": {
            "text/plain": [
              "(61,)"
            ]
          },
          "metadata": {},
          "execution_count": 170
        }
      ]
    },
    {
      "cell_type": "markdown",
      "source": [
        "**Accuracy Score**"
      ],
      "metadata": {
        "id": "zOs6ulKCiiqM"
      }
    },
    {
      "cell_type": "code",
      "source": [
        "score_rf = round(accuracy_score(Y_pred_rf,Y_test)*100,2)\n",
        "\n",
        "print(\"Accuracy score using Decision Tree is: \"+str(score_rf))"
      ],
      "metadata": {
        "id": "_giPTb9ZKHKf",
        "colab": {
          "base_uri": "https://localhost:8080/"
        },
        "outputId": "d7ef3a7c-f5c1-4836-b7c1-3043edc5da40"
      },
      "execution_count": 171,
      "outputs": [
        {
          "output_type": "stream",
          "name": "stdout",
          "text": [
            "Accuracy score using Decision Tree is: 88.52\n"
          ]
        }
      ]
    },
    {
      "cell_type": "markdown",
      "source": [
        "**Confusion Matrix**"
      ],
      "metadata": {
        "id": "PfAGaRADilC2"
      }
    },
    {
      "cell_type": "code",
      "source": [
        "cm=confusion_matrix(Y_test, Y_pred_rf)\n",
        "sns.heatmap(cm,annot=True)"
      ],
      "metadata": {
        "id": "l3YkZkEgiLwF",
        "colab": {
          "base_uri": "https://localhost:8080/",
          "height": 343
        },
        "outputId": "8f6960ce-2623-4439-bdca-f11d1ca177bf"
      },
      "execution_count": 172,
      "outputs": [
        {
          "output_type": "execute_result",
          "data": {
            "text/plain": [
              "<matplotlib.axes._subplots.AxesSubplot at 0x7fc7663df4d0>"
            ]
          },
          "metadata": {},
          "execution_count": 172
        },
        {
          "output_type": "display_data",
          "data": {
            "image/png": "[encoded data removed]",
            "text/plain": [
              "<Figure size 576x360 with 2 Axes>"
            ]
          },
          "metadata": {}
        }
      ]
    },
    {
      "cell_type": "markdown",
      "source": [
        "# **4) Ensemble Learning**"
      ],
      "metadata": {
        "id": "_YZG6WcKNwiE"
      }
    },
    {
      "cell_type": "code",
      "source": [
        "from sklearn.ensemble import VotingClassifier\n",
        "from sklearn import model_selection"
      ],
      "metadata": {
        "id": "Ilw1oamqN2Gq"
      },
      "execution_count": 173,
      "outputs": []
    },
    {
      "cell_type": "code",
      "source": [
        "estimators = []\n",
        "\n",
        "estimators.append(('lr', lr))\n",
        "estimators.append(('dt', dt))\n",
        "estimators.append(('rf', rf))"
      ],
      "metadata": {
        "id": "boz1C4EDjfzY"
      },
      "execution_count": 174,
      "outputs": []
    },
    {
      "cell_type": "code",
      "source": [
        "kfold = model_selection.KFold(n_splits=10, random_state=42, shuffle=True)"
      ],
      "metadata": {
        "id": "loJVKPqOkHLW"
      },
      "execution_count": 175,
      "outputs": []
    },
    {
      "cell_type": "code",
      "source": [
        "ensemble = VotingClassifier(estimators)\n",
        "results = model_selection.cross_val_score(ensemble, X_train, Y_train, cv=kfold)"
      ],
      "metadata": {
        "id": "-8CYi2MKi44x"
      },
      "execution_count": 176,
      "outputs": []
    },
    {
      "cell_type": "code",
      "source": [
        "ensemble.fit(X_train,Y_train)\n",
        "Y_pred_el = ensemble.predict(X_test)"
      ],
      "metadata": {
        "id": "t_FN74Jni41S"
      },
      "execution_count": 177,
      "outputs": []
    },
    {
      "cell_type": "markdown",
      "source": [
        "**Accuracy Score**"
      ],
      "metadata": {
        "id": "F3i74vsal4gE"
      }
    },
    {
      "cell_type": "code",
      "source": [
        "score_el = round(accuracy_score(Y_pred_el,Y_test)*100,2)\n",
        "\n",
        "print(\"Accuracy score using Ensemble Learning is: \"+str(score_el))"
      ],
      "metadata": {
        "id": "Dn4oky2yi4yu",
        "colab": {
          "base_uri": "https://localhost:8080/"
        },
        "outputId": "209f2be1-047e-4589-f23c-6bb04608dc4f"
      },
      "execution_count": 178,
      "outputs": [
        {
          "output_type": "stream",
          "name": "stdout",
          "text": [
            "Accuracy score using Ensemble Learning is: 88.52\n"
          ]
        }
      ]
    },
    {
      "cell_type": "markdown",
      "source": [
        "**Confusion Matrix**"
      ],
      "metadata": {
        "id": "SOV4iPt6mI9t"
      }
    },
    {
      "cell_type": "code",
      "source": [
        "cm=confusion_matrix(Y_test, Y_pred_el)\n",
        "sns.heatmap(cm,annot=True)"
      ],
      "metadata": {
        "id": "kMX8vuDLmMS7",
        "colab": {
          "base_uri": "https://localhost:8080/",
          "height": 339
        },
        "outputId": "7630d610-c59d-4650-e352-b1cd934492af"
      },
      "execution_count": 179,
      "outputs": [
        {
          "output_type": "execute_result",
          "data": {
            "text/plain": [
              "<matplotlib.axes._subplots.AxesSubplot at 0x7fc765c68d90>"
            ]
          },
          "metadata": {},
          "execution_count": 179
        },
        {
          "output_type": "display_data",
          "data": {
            "image/png": "[encoded data removed]",
            "text/plain": [
              "<Figure size 576x360 with 2 Axes>"
            ]
          },
          "metadata": {}
        }
      ]
    },
    {
      "cell_type": "markdown",
      "source": [
        "# **Comparison of all models**"
      ],
      "metadata": {
        "id": "UTwmUYaaKPEk"
      }
    },
    {
      "cell_type": "code",
      "source": [
        "scores = [score_lr, score_dt, score_rf, score_el]\n",
        "algorithms = [\"Logistic Regression\",\"Decision Tree\",\"Random Forest\",\"Ensemble Learning\"]    \n",
        "\n",
        "for i in range(len(algorithms)):\n",
        "    print(\"Accuracy score using \"+algorithms[i]+\" is: \"+str(scores[i]))"
      ],
      "metadata": {
        "id": "aeSRUex_KWkt",
        "colab": {
          "base_uri": "https://localhost:8080/"
        },
        "outputId": "82927425-9172-450c-bd93-44d95fa93a7e"
      },
      "execution_count": 180,
      "outputs": [
        {
          "output_type": "stream",
          "name": "stdout",
          "text": [
            "Accuracy score using Logistic Regression is: 85.25\n",
            "Accuracy score using Decision Tree is: 81.97\n",
            "Accuracy score using Random Forest is: 88.52\n",
            "Accuracy score using Ensemble Learning is: 88.52\n"
          ]
        }
      ]
    },
    {
      "cell_type": "code",
      "source": [
        "sns.set(rc={'figure.figsize':(8,5)})\n",
        "plt.xlabel(\"Algorithms\")\n",
        "plt.ylabel(\"Accuracy score\")\n",
        "\n",
        "sns.barplot(algorithms,scores)"
      ],
      "metadata": {
        "id": "HjKtHxIaKqot",
        "colab": {
          "base_uri": "https://localhost:8080/",
          "height": 411
        },
        "outputId": "41804956-10be-49e5-e4ec-2378fcb6b0f8"
      },
      "execution_count": 181,
      "outputs": [
        {
          "output_type": "stream",
          "name": "stderr",
          "text": [
            "/usr/local/lib/python3.7/dist-packages/seaborn/_decorators.py:43: FutureWarning: Pass the following variables as keyword args: x, y. From version 0.12, the only valid positional argument will be `data`, and passing other arguments without an explicit keyword will result in an error or misinterpretation.\n",
            "  FutureWarning\n"
          ]
        },
        {
          "output_type": "execute_result",
          "data": {
            "text/plain": [
              "<matplotlib.axes._subplots.AxesSubplot at 0x7fc7663dfd10>"
            ]
          },
          "metadata": {},
          "execution_count": 181
        },
        {
          "output_type": "display_data",
          "data": {
            "image/png": "[encoded data removed]",
            "text/plain": [
              "<Figure size 576x360 with 1 Axes>"
            ]
          },
          "metadata": {}
        }
      ]
    },
    {
      "cell_type": "markdown",
      "source": [
        "Turns out random forest has better accuracy score as compared to other algorithms"
      ],
      "metadata": {
        "id": "Pc3fdwojmnvE"
      }
    }
  ]
}